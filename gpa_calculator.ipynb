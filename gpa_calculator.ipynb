{
  "nbformat": 4,
  "nbformat_minor": 0,
  "metadata": {
    "colab": {
      "name": "gpa calculator.ipynb",
      "provenance": [],
      "authorship_tag": "ABX9TyNnf8wg62YLxGvOMsRDjoVa",
      "include_colab_link": true
    },
    "kernelspec": {
      "name": "python3",
      "display_name": "Python 3"
    },
    "language_info": {
      "name": "python"
    }
  },
  "cells": [
    {
      "cell_type": "markdown",
      "metadata": {
        "id": "view-in-github",
        "colab_type": "text"
      },
      "source": [
        "<a href=\"https://colab.research.google.com/github/mandarsupate/GPA-Calculator/blob/main/gpa_calculator.ipynb\" target=\"_parent\"><img src=\"https://colab.research.google.com/assets/colab-badge.svg\" alt=\"Open In Colab\"/></a>"
      ]
    },
    {
      "cell_type": "code",
      "metadata": {
        "colab": {
          "base_uri": "https://localhost:8080/",
          "height": 351
        },
        "id": "nhddbwQq-pSV",
        "outputId": "6b1702d1-e168-4e41-bc3e-3130eaca1e62"
      },
      "source": [
        "from tkinter import *\n",
        "import tkinter.messagebox\n",
        " \n",
        "def gpa_calculator(grades):\n",
        "    points = 0\n",
        "    i = 0\n",
        "    grade_c = {\"A\":4,\"A-\":3.67,\"B+\":3.33,\"B\":3.0,\"B-\":2.67, \"C+\":2.33,\"C\":2.0,\"C-\":1.67,\"D+\":1.33,\"D\":1.0,\"F\":0}\n",
        "    if grades != []:\n",
        "        for grade in grades:\n",
        "            if grade not in grade_c:\n",
        "                return \"Invalid\"\n",
        "            points += grade_c[grade]\n",
        "        gpa = points / len(grades)\n",
        "        return gpa\n",
        "    else:\n",
        "        return None\n",
        "\n",
        "class App:\n",
        "    def __init__(self, parent):\n",
        "        self.parent = parent\n",
        "        self.frame_1 = Frame(parent)\n",
        "        self.frame_1.pack()\n",
        "        self.sub_count = 1\n",
        "        self.subs = []\n",
        "        Label(self.frame_1, text=\"Enter Grade :\").grid(row=self.sub_count-1, column=0)\n",
        "        self.subs.append(Entry(self.frame_1))\n",
        "        self.subs[self.sub_count-1].grid(row=self.sub_count-1, column=1)\n",
        " \n",
        "        self.btn_1 = Button(parent, text=\"Add Courses !\",\n",
        "                            command=self.add_courses)\n",
        "        self.btn_1.pack(pady=8)\n",
        "        self.btn_2 = Button(parent, text=\"Calculate GPA\",\n",
        "                            command=self.calc_CG)\n",
        "        self.btn_2.pack(pady=8)\n",
        " \n",
        "    def add_courses(self):\n",
        "        self.sub_count += 1\n",
        "        Label(self.frame_1, text=\"Enter Grade :\").grid(row=self.sub_count-1, column=0)\n",
        "        self.subs.append(Entry(self.frame_1))\n",
        "        self.subs[self.sub_count-1].grid(row=self.sub_count-1, column=1)\n",
        " \n",
        "    def calc_CG(self):\n",
        "        grades = []\n",
        "        for sub in self.subs:\n",
        "            if sub.get() != \"\":\n",
        "                grades.append(sub.get())\n",
        "        tkinter.messagebox.showinfo(\"Predicted CGPA \", str(gpa_calculator(grades)))\n",
        " \n",
        " \n",
        "root = Tk()\n",
        "app = App(root)\n",
        "root.mainloop()"
      ],
      "execution_count": null,
      "outputs": [
        {
          "output_type": "error",
          "ename": "TclError",
          "evalue": "ignored",
          "traceback": [
            "\u001b[0;31m---------------------------------------------------------------------------\u001b[0m",
            "\u001b[0;31mTclError\u001b[0m                                  Traceback (most recent call last)",
            "\u001b[0;32m<ipython-input-1-bbce2f27bac3>\u001b[0m in \u001b[0;36m<module>\u001b[0;34m()\u001b[0m\n\u001b[1;32m     48\u001b[0m \u001b[0;34m\u001b[0m\u001b[0m\n\u001b[1;32m     49\u001b[0m \u001b[0;34m\u001b[0m\u001b[0m\n\u001b[0;32m---> 50\u001b[0;31m \u001b[0mroot\u001b[0m \u001b[0;34m=\u001b[0m \u001b[0mTk\u001b[0m\u001b[0;34m(\u001b[0m\u001b[0;34m)\u001b[0m\u001b[0;34m\u001b[0m\u001b[0;34m\u001b[0m\u001b[0m\n\u001b[0m\u001b[1;32m     51\u001b[0m \u001b[0mapp\u001b[0m \u001b[0;34m=\u001b[0m \u001b[0mApp\u001b[0m\u001b[0;34m(\u001b[0m\u001b[0mroot\u001b[0m\u001b[0;34m)\u001b[0m\u001b[0;34m\u001b[0m\u001b[0;34m\u001b[0m\u001b[0m\n\u001b[1;32m     52\u001b[0m \u001b[0mroot\u001b[0m\u001b[0;34m.\u001b[0m\u001b[0mmainloop\u001b[0m\u001b[0;34m(\u001b[0m\u001b[0;34m)\u001b[0m\u001b[0;34m\u001b[0m\u001b[0;34m\u001b[0m\u001b[0m\n",
            "\u001b[0;32m/usr/lib/python3.7/tkinter/__init__.py\u001b[0m in \u001b[0;36m__init__\u001b[0;34m(self, screenName, baseName, className, useTk, sync, use)\u001b[0m\n\u001b[1;32m   2021\u001b[0m                 \u001b[0mbaseName\u001b[0m \u001b[0;34m=\u001b[0m \u001b[0mbaseName\u001b[0m \u001b[0;34m+\u001b[0m \u001b[0mext\u001b[0m\u001b[0;34m\u001b[0m\u001b[0;34m\u001b[0m\u001b[0m\n\u001b[1;32m   2022\u001b[0m         \u001b[0minteractive\u001b[0m \u001b[0;34m=\u001b[0m \u001b[0;36m0\u001b[0m\u001b[0;34m\u001b[0m\u001b[0;34m\u001b[0m\u001b[0m\n\u001b[0;32m-> 2023\u001b[0;31m         \u001b[0mself\u001b[0m\u001b[0;34m.\u001b[0m\u001b[0mtk\u001b[0m \u001b[0;34m=\u001b[0m \u001b[0m_tkinter\u001b[0m\u001b[0;34m.\u001b[0m\u001b[0mcreate\u001b[0m\u001b[0;34m(\u001b[0m\u001b[0mscreenName\u001b[0m\u001b[0;34m,\u001b[0m \u001b[0mbaseName\u001b[0m\u001b[0;34m,\u001b[0m \u001b[0mclassName\u001b[0m\u001b[0;34m,\u001b[0m \u001b[0minteractive\u001b[0m\u001b[0;34m,\u001b[0m \u001b[0mwantobjects\u001b[0m\u001b[0;34m,\u001b[0m \u001b[0museTk\u001b[0m\u001b[0;34m,\u001b[0m \u001b[0msync\u001b[0m\u001b[0;34m,\u001b[0m \u001b[0muse\u001b[0m\u001b[0;34m)\u001b[0m\u001b[0;34m\u001b[0m\u001b[0;34m\u001b[0m\u001b[0m\n\u001b[0m\u001b[1;32m   2024\u001b[0m         \u001b[0;32mif\u001b[0m \u001b[0museTk\u001b[0m\u001b[0;34m:\u001b[0m\u001b[0;34m\u001b[0m\u001b[0;34m\u001b[0m\u001b[0m\n\u001b[1;32m   2025\u001b[0m             \u001b[0mself\u001b[0m\u001b[0;34m.\u001b[0m\u001b[0m_loadtk\u001b[0m\u001b[0;34m(\u001b[0m\u001b[0;34m)\u001b[0m\u001b[0;34m\u001b[0m\u001b[0;34m\u001b[0m\u001b[0m\n",
            "\u001b[0;31mTclError\u001b[0m: no display name and no $DISPLAY environment variable"
          ]
        }
      ]
    }
  ]
}